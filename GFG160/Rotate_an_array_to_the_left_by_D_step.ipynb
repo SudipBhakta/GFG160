{
  "metadata": {
    "kernelspec": {
      "name": "python",
      "display_name": "Python (Pyodide)",
      "language": "python"
    },
    "language_info": {
      "codemirror_mode": {
        "name": "python",
        "version": 3
      },
      "file_extension": ".py",
      "mimetype": "text/x-python",
      "name": "python",
      "nbconvert_exporter": "python",
      "pygments_lexer": "ipython3",
      "version": "3.8"
    }
  },
  "nbformat_minor": 4,
  "nbformat": 4,
  "cells": [
    {
      "cell_type": "code",
      "source": "arr = [1,2,3,4,5,6,7,8,9]\nd = 13\nk = d % len(arr)\ntem = []\nfor i in range(k):\n    tem.append(arr[i])\nfor i in range(k,len(arr)):\n    arr[i-k] = arr[i]\nfor i in range(len(arr)-k,len(arr)):\n    arr[i]= tem[i-(len(arr)-k)]\n\nprint(tem)\nprint(arr)",
      "metadata": {
        "trusted": true
      },
      "outputs": [
        {
          "name": "stdout",
          "text": "[1, 2, 3, 4]\n[5, 6, 7, 8, 9, 1, 2, 3, 4]\n",
          "output_type": "stream"
        }
      ],
      "execution_count": 2
    },
    {
      "cell_type": "code",
      "source": "class Solution:\n    def rotateArr(self,arr, d):\n        n= len(arr)\n        k = d % n\n        self.reverseElement(arr,0,k-1)\n        self.reverseElement(arr,k,n-1)\n        self.reverseElement(arr,0,n-1)\n    def reverseElement(self,arr, start,end):\n        while start<end:\n            arr[start],arr[end]=arr[end],arr[start]\n            start+=1\n            end-=1\n\narr=[1,2,3,4,5,6,7,8,9]\nd = 3\nsolution= Solution()\nsolution.rotateArr(arr,d)\nprint(arr)",
      "metadata": {
        "trusted": true
      },
      "outputs": [
        {
          "name": "stdout",
          "text": "[4, 5, 6, 7, 8, 9, 1, 2, 3]\n",
          "output_type": "stream"
        }
      ],
      "execution_count": 3
    },
    {
      "cell_type": "code",
      "source": "arr = [1,2,3,4,5,6,7,8,9]\nd = 3\nk = d % len(arr)\ni1 = 0\nj1 = k-1\ni2 = k\nj2 = len(arr)-1\ni3 = 0\nj3 = len(arr)-1\nwhile i1 < j1:\n    arr[i1],arr[j1] = arr[j1],arr[i1]\n    i1+=1\n    j1-=1\n\nwhile i2 < j2:\n    arr[i2],arr[j2] = arr[j2],arr[i2]\n    i2+=1\n    j2-=1\n\nwhile i3 < j3:\n    arr[i3],arr[j3] = arr[j3],arr[i3]\n    i3+=1\n    j3-=1\nprint(arr)",
      "metadata": {
        "trusted": true
      },
      "outputs": [
        {
          "name": "stdout",
          "text": "[4, 5, 6, 7, 8, 9, 1, 2, 3]\n",
          "output_type": "stream"
        }
      ],
      "execution_count": 7
    },
    {
      "cell_type": "code",
      "source": "",
      "metadata": {
        "trusted": true
      },
      "outputs": [],
      "execution_count": null
    }
  ]
}