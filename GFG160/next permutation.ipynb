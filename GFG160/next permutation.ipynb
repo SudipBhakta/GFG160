{
  "metadata": {
    "kernelspec": {
      "name": "python",
      "display_name": "Python (Pyodide)",
      "language": "python"
    },
    "language_info": {
      "codemirror_mode": {
        "name": "python",
        "version": 3
      },
      "file_extension": ".py",
      "mimetype": "text/x-python",
      "name": "python",
      "nbconvert_exporter": "python",
      "pygments_lexer": "ipython3",
      "version": "3.8"
    }
  },
  "nbformat_minor": 4,
  "nbformat": 4,
  "cells": [
    {
      "cell_type": "code",
      "source": "class Solution:\n    def nextPermutation(self, arr):\n        pivot = -1\n        for i in range(len(arr)-2,-1,-1):\n            if arr[i] < arr[i + 1]:\n                pivot = i\n                break\n\n        if pivot == -1:\n            i = 0\n            j = len(arr)-1\n            while i < j:\n                arr[i],arr[j] = arr[j],arr[i]\n                i+=1\n                j-=1\n            return\n        for i in range(len(arr)-1,pivot,-1):\n            if arr[i]>arr[pivot]:\n                arr[i],arr[pivot] = arr[pivot],arr[i]\n                break\n        i = pivot +1\n        j = len(arr)-1\n        while i < j:\n            arr[i],arr[j] = arr[j],arr[i]\n            i+=1\n            j-=1\n        return\ns = Solution()\narr = [5,4,7,5,3,2]\nprint(s.nextPermutation(arr))",
      "metadata": {
        "trusted": true
      },
      "outputs": [
        {
          "name": "stdout",
          "text": "None\n",
          "output_type": "stream"
        }
      ],
      "execution_count": 21
    },
    {
      "cell_type": "code",
      "source": "def next_permutation(arr):\n    def find_next(arr, i):\n        n = len(arr)\n        # Base case If we reach the start of the array and no swap has been possible\n        if i < 0:\n            arr.reverse()  # If no next permutation exists return the smallest permutation\n            return\n\n        # Find the first element that violates the descending order\n        if i > 0 and arr[i - 1] < arr[i]:\n            # Find the smallest element greater than arr[i-1] to swap with\n            for j in range(n - 1, i - 1, -1):\n                if arr[j] > arr[i - 1]:\n                    # Swap arr[j] and arr[i-1]\n                    arr[i - 1], arr[j] = arr[j], arr[i - 1]\n                    break\n            # Reverse the portion after index i-1\n            arr[i:] = reversed(arr[i:])\n            return\n\n        # Recursive call to check the previous index\n        find_next(arr, i - 1)\n\n    find_next(arr, len(arr) - 1)\n    return arr\n\narr = [1, 2, 3]\nprint(next_permutation(arr)) \narr = [3, 2, 1]\nprint(next_permutation(arr)) \narr = [1, 1, 5,4,7,8]\nprint(next_permutation(arr))",
      "metadata": {
        "trusted": true
      },
      "outputs": [
        {
          "name": "stdout",
          "text": "[1, 3, 2]\n[1, 2, 3]\n[1, 1, 5, 4, 8, 7]\n",
          "output_type": "stream"
        }
      ],
      "execution_count": 1
    },
    {
      "cell_type": "code",
      "source": "from typing import List\n\nclass Solution:\n    def nextPermutation(self, nums: List[int]) -> None:\n        # function to generate all permutations\n        def generate_permutations(nums, start, result):\n            if start == len(nums):\n                result.append(nums[:])  # Add the current permutation to the result\n            else:\n                for i in range(start, len(nums)):\n                    if i > start and nums[i] == nums[start]:\n                        continue\n                    nums[start], nums[i] = nums[i], nums[start]  # Swap to create new permutation\n                    generate_permutations(nums, start + 1, result)\n                    nums[start], nums[i] = nums[i], nums[start]  # Backtrack to original state\n\n        # Step 1: Generate all permutations of the array\n        result = []\n        generate_permutations(nums, 0, result)\n        \n        # Step 2: Sort the permutations lexicographically\n        result.sort()\n        \n        # Step 3: Find the current permutation in the sorted list of permutations\n        original = tuple(nums)\n        for i in range(len(result) - 1):\n            if tuple(result[i]) == original:\n                # If we find the current permutation, return the next one\n                nums[:] = list(result[i + 1])  # Copy the next permutation into nums\n                return\n        \n        # If no next permutation (i.e., we are at the last one), return the first permutation\n        nums[:] = list(result[0])\n\nsolution = Solution()\narr = [1, 2, 3]\nsolution.nextPermutation(arr)\narr = [3, 2, 1]\nsolution.nextPermutation(arr)\narr = [1, 1, 5]\nsolution.nextPermutation(arr)",
      "metadata": {
        "trusted": true
      },
      "outputs": [
        {
          "name": "stdout",
          "text": "[1, 3, 2]\n[1, 2, 3]\n[1, 5, 1]\n",
          "output_type": "stream"
        }
      ],
      "execution_count": 24
    },
    {
      "cell_type": "code",
      "source": "",
      "metadata": {
        "trusted": true
      },
      "outputs": [],
      "execution_count": null
    }
  ]
}