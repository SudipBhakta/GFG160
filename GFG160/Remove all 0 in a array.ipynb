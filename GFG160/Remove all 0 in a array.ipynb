{
  "metadata": {
    "kernelspec": {
      "name": "python",
      "display_name": "Python (Pyodide)",
      "language": "python"
    },
    "language_info": {
      "codemirror_mode": {
        "name": "python",
        "version": 3
      },
      "file_extension": ".py",
      "mimetype": "text/x-python",
      "name": "python",
      "nbconvert_exporter": "python",
      "pygments_lexer": "ipython3",
      "version": "3.8"
    }
  },
  "nbformat_minor": 4,
  "nbformat": 4,
  "cells": [
    {
      "cell_type": "code",
      "source": "arr = [1,0,2,3,0,5,0,8,4]\ntem = []\nfor i in range(len(arr)):\n    if arr[i] != 0:\n        tem.append(arr[i])\n\nfor i in range(len(tem)):\n    arr[i]= tem[i]\n\nfor i in range(len(tem),len(arr),1):\n    arr[i]=0\n\nprint(arr)",
      "metadata": {
        "trusted": true
      },
      "outputs": [
        {
          "name": "stdout",
          "text": "[1, 2, 3, 5, 8, 4, 0, 0, 0]\n",
          "output_type": "stream"
        }
      ],
      "execution_count": 4
    },
    {
      "cell_type": "code",
      "source": "arr = [1,2,3,5,8,4]\nj= 0\nfor i in range(len(arr)):\n    if arr[i] == 0:\n        j = i\n        break\nfor i in range(j+1,len(arr),1):\n    if arr[i] != 0:\n        arr[j],arr[i] = arr[i],arr[j]\n        j += 1\nprint(arr)",
      "metadata": {
        "trusted": true
      },
      "outputs": [
        {
          "name": "stdout",
          "text": "[2, 3, 5, 8, 4, 1]\n",
          "output_type": "stream"
        }
      ],
      "execution_count": 25
    },
    {
      "cell_type": "code",
      "source": "class Solution:\n    def pushZerosToEnd(self,arr):\n        j = -1\n        for i in range(len(arr)):\n            if arr[i] == 0:\n                j = i\n                break\n\n        if j == -1:\n            return arr\n        for i in range(j+1,len(arr),1):\n            if arr[i] != 0:\n                arr[j],arr[i] = arr[i],arr[j]\n                j += 1        \n            return(arr)\n\nsolution = Solution()\narr = [1,8,0,60,98,0,54,30,0,6,7,0,5]\nprint(solution.pushZerosToEnd(arr))",
      "metadata": {
        "trusted": true
      },
      "outputs": [
        {
          "name": "stdout",
          "text": "[1, 8, 60, 0, 98, 0, 54, 30, 0, 6, 7, 0, 5]\n",
          "output_type": "stream"
        }
      ],
      "execution_count": 3
    },
    {
      "cell_type": "code",
      "source": "class Solution:\n    def pushZerosToEnd(self,arr):\n        j = -1\n        for i in range(len(arr)):\n            if arr[i] == 0:\n                j = i\n                break\n\n        if j == -1:\n            return arr\n        else:\n            for i in range(j+1,len(arr),1):\n                if arr[i] != 0:\n                    arr[j],arr[i] = arr[i],arr[j]\n                    j += 1        \n            return(arr)\n\nsolution = Solution()\narr = [1,8,0,60,0,98,54,30,6,7,5]\nprint(solution.pushZerosToEnd(arr))",
      "metadata": {
        "trusted": true
      },
      "outputs": [
        {
          "name": "stdout",
          "text": "[1, 8, 60, 98, 54, 30, 6, 7, 5, 0, 0]\n",
          "output_type": "stream"
        }
      ],
      "execution_count": 8
    },
    {
      "cell_type": "code",
      "source": "",
      "metadata": {
        "trusted": true
      },
      "outputs": [],
      "execution_count": null
    },
    {
      "cell_type": "code",
      "source": "",
      "metadata": {
        "trusted": true
      },
      "outputs": [],
      "execution_count": null
    }
  ]
}