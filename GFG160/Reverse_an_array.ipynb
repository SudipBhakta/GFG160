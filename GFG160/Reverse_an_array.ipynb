{
  "metadata": {
    "kernelspec": {
      "name": "python",
      "display_name": "Python (Pyodide)",
      "language": "python"
    },
    "language_info": {
      "codemirror_mode": {
        "name": "python",
        "version": 3
      },
      "file_extension": ".py",
      "mimetype": "text/x-python",
      "name": "python",
      "nbconvert_exporter": "python",
      "pygments_lexer": "ipython3",
      "version": "3.8"
    }
  },
  "nbformat_minor": 4,
  "nbformat": 4,
  "cells": [
    {
      "cell_type": "code",
      "source": "arr = [1,2,3,4,5,6]\ntem= []\nfor i in range(len(arr)-1,-1,-1):\n    tem.append(arr[i])\n\nfor i in range(-1 , len(tem)):\n    arr[i]=tem[i]\nprint(arr)\nprint(tem)",
      "metadata": {
        "trusted": true
      },
      "outputs": [
        {
          "name": "stdout",
          "text": "[6, 5, 4, 3, 2, 1]\n[6, 5, 4, 3, 2, 1]\n",
          "output_type": "stream"
        }
      ],
      "execution_count": 6
    },
    {
      "cell_type": "code",
      "source": "arr = [1,2,3,4,5,6]\ni = 0\nj = len(arr)-1\n\nwhile i < j:\n    arr[i],arr[j]=arr[j],arr[i]\n    i += 1\n    j -= 1\n\nprint(arr)",
      "metadata": {
        "trusted": true
      },
      "outputs": [
        {
          "name": "stdout",
          "text": "[6, 5, 4, 3, 2, 1]\n",
          "output_type": "stream"
        }
      ],
      "execution_count": 10
    },
    {
      "cell_type": "code",
      "source": "",
      "metadata": {
        "trusted": true
      },
      "outputs": [],
      "execution_count": null
    }
  ]
}