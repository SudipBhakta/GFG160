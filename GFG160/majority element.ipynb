{
  "metadata": {
    "kernelspec": {
      "name": "python",
      "display_name": "Python (Pyodide)",
      "language": "python"
    },
    "language_info": {
      "codemirror_mode": {
        "name": "python",
        "version": 3
      },
      "file_extension": ".py",
      "mimetype": "text/x-python",
      "name": "python",
      "nbconvert_exporter": "python",
      "pygments_lexer": "ipython3",
      "version": "3.8"
    }
  },
  "nbformat_minor": 4,
  "nbformat": 4,
  "cells": [
    {
      "cell_type": "code",
      "source": "arr =[1,2,6,6,6,6,6,6,5,5,5,5,5]\nn = len(arr)\nm = []\ne = []\nfor i in range(n):\n    if arr[i] in m:\n        continue\n    m.append(arr[i])\n    count = 1\n    for j in range(i+1,n):\n        if arr[i] == arr[j]:\n            count += 1\n    if count > n // 3:\n        e.append(arr[i])\nif len(e) == 2:\n    if e[0]>e[1]:\n        e[0],e[1]=e[1],e[0]\n# e.sort()\nprint(e)",
      "metadata": {
        "trusted": true
      },
      "outputs": [
        {
          "name": "stdout",
          "text": "[5, 6]\n",
          "output_type": "stream"
        }
      ],
      "execution_count": 15
    },
    {
      "cell_type": "code",
      "source": "def majority_element(arr):\n    n = len(arr)\n    frequency = {}\n    result = []\n\n    # Count frequencies using a dictionary\n    for num in arr:\n        frequency[num] = frequency.get(num, 0) + 1\n\n    # Check for elements appearing more than n/3 times\n    for key, value in frequency.items():\n        if value > n // 3:\n            result.append(key)\n\n    # Return the result in sorted order\n    return sorted(result)\narr = [1,2,6,6,6,6,6,6,5,5,5,5,5]\nprint(majority_element(arr))",
      "metadata": {
        "trusted": true
      },
      "outputs": [
        {
          "name": "stdout",
          "text": "[5, 6]\n",
          "output_type": "stream"
        }
      ],
      "execution_count": 17
    },
    {
      "cell_type": "code",
      "source": "",
      "metadata": {
        "trusted": true
      },
      "outputs": [],
      "execution_count": null
    }
  ]
}